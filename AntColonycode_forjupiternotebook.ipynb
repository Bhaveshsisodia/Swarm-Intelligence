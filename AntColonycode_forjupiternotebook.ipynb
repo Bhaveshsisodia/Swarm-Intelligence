{
 "cells": [
  {
   "cell_type": "code",
   "execution_count": 1,
   "metadata": {},
   "outputs": [],
   "source": [
    "import numpy as np\n",
    "from numpy import inf\n",
    "\n",
    "#given values for the problems\n",
    "\n",
    "d = np.array([[0,10,12,11,14]\n",
    "          ,[10,0,13,15,8]\n",
    "          ,[12,13,0,9,14]\n",
    "          ,[11,15,9,0,16]\n",
    "          ,[14,8,14,16,0]])\n",
    "\n",
    "\n",
    "iteration = 100\n",
    "n_ants = 5\n",
    "n_citys = 5"
   ]
  },
  {
   "cell_type": "code",
   "execution_count": 2,
   "metadata": {},
   "outputs": [],
   "source": [
    "# intialization part\n",
    "\n",
    "m = n_ants\n",
    "n = n_citys\n",
    "e = .5         #evaporation rate\n",
    "alpha = 1     #pheromone factor\n",
    "beta = 2       #visibility factor"
   ]
  },
  {
   "cell_type": "code",
   "execution_count": 7,
   "metadata": {},
   "outputs": [
    {
     "output_type": "stream",
     "name": "stderr",
     "text": [
      "<ipython-input-7-86c6b090d351>:3: RuntimeWarning: divide by zero encountered in true_divide\n  visibility = 1/d\n"
     ]
    },
    {
     "output_type": "execute_result",
     "data": {
      "text/plain": [
       "array([[0.        , 0.1       , 0.08333333, 0.09090909, 0.07142857],\n",
       "       [0.1       , 0.        , 0.07692308, 0.06666667, 0.125     ],\n",
       "       [0.08333333, 0.07692308, 0.        , 0.11111111, 0.07142857],\n",
       "       [0.09090909, 0.06666667, 0.11111111, 0.        , 0.0625    ],\n",
       "       [0.07142857, 0.125     , 0.07142857, 0.0625    , 0.        ]])"
      ]
     },
     "metadata": {},
     "execution_count": 7
    }
   ],
   "source": [
    "#calculating the visibility of the next city visibility(i,j)=1/d(i,j)\n",
    "\n",
    "visibility = 1/d\n",
    "visibility[visibility == inf ] = 0\n",
    "visibility"
   ]
  },
  {
   "cell_type": "code",
   "execution_count": 6,
   "metadata": {},
   "outputs": [
    {
     "output_type": "stream",
     "name": "stdout",
     "text": [
      "[[0.1 0.1 0.1 0.1 0.1]\n [0.1 0.1 0.1 0.1 0.1]\n [0.1 0.1 0.1 0.1 0.1]\n [0.1 0.1 0.1 0.1 0.1]\n [0.1 0.1 0.1 0.1 0.1]]\n[[1. 1. 1. 1. 1. 1.]\n [1. 1. 1. 1. 1. 1.]\n [1. 1. 1. 1. 1. 1.]\n [1. 1. 1. 1. 1. 1.]\n [1. 1. 1. 1. 1. 1.]]\n"
     ]
    }
   ],
   "source": [
    "#intializing pheromne present at the paths to the cities\n",
    "\n",
    "pheromne = .1*np.ones((m,n))\n",
    "\n",
    "#intializing the rute of the ants with size rute(n_ants,n_citys+1) \n",
    "#note adding 1 because we want to come back to the source city\n",
    "\n",
    "rute = np.ones((m,n+1))\n",
    "print(pheromne)\n",
    "print(rute)\n"
   ]
  },
  {
   "cell_type": "code",
   "execution_count": 5,
   "metadata": {},
   "outputs": [
    {
     "output_type": "stream",
     "name": "stdout",
     "text": [
      "route of all the ants at the end :\n[[1. 3. 4. 2. 5. 1.]\n [1. 3. 4. 2. 5. 1.]\n [1. 3. 4. 2. 5. 1.]\n [1. 3. 4. 2. 5. 1.]\n [1. 3. 4. 2. 5. 1.]]\n\nbest path : [1. 3. 4. 2. 5. 1.]\ncost of the best path 58\n"
     ]
    }
   ],
   "source": [
    "for ite in range(iteration):\n",
    "    \n",
    "    rute[:,0] = 1          #initial starting and ending positon of every ants '1' i.e city '1'\n",
    "    \n",
    "    for i in range(m):\n",
    "        \n",
    "        temp_visibility = np.array(visibility)         #creating a copy of visibility\n",
    "        \n",
    "        for j in range(n-1):\n",
    "            #print(rute)\n",
    "            \n",
    "            combine_feature = np.zeros(5)     #intializing combine_feature array to zero\n",
    "            cum_prob = np.zeros(5)            #intializing cummulative probability array to zeros\n",
    "            \n",
    "            cur_loc = int(rute[i,j]-1)        #current city of the ant\n",
    "            \n",
    "            temp_visibility[:,cur_loc] = 0     #making visibility of the current city as zero\n",
    "            \n",
    "            p_feature = np.power(pheromne[cur_loc,:],beta)         #calculating pheromne feature \n",
    "            v_feature = np.power(temp_visibility[cur_loc,:],alpha)  #calculating visibility feature\n",
    "            \n",
    "            p_feature = p_feature[:,np.newaxis]                     #adding axis to make a size[5,1]\n",
    "            v_feature = v_feature[:,np.newaxis]                     #adding axis to make a size[5,1]\n",
    "            \n",
    "            combine_feature = np.multiply(p_feature,v_feature)     #calculating the combine feature\n",
    "                        \n",
    "            total = np.sum(combine_feature)                        #sum of all the feature\n",
    "            \n",
    "            probs = combine_feature/total   #finding probability of element probs(i) = comine_feature(i)/total\n",
    "            \n",
    "            cum_prob = np.cumsum(probs)     #calculating cummulative sum\n",
    "            #print(cum_prob)\n",
    "            r = np.random.random_sample()   #randon no in [0,1)\n",
    "            #print(r)\n",
    "            city = np.nonzero(cum_prob>r)[0][0]+1       #finding the next city having probability higher then random(r) \n",
    "            #print(city)\n",
    "            \n",
    "            rute[i,j+1] = city              #adding city to route \n",
    "           \n",
    "        left = list(set([i for i in range(1,n+1)])-set(rute[i,:-2]))[0]     #finding the last untraversed city to route\n",
    "        \n",
    "        rute[i,-2] = left                   #adding untraversed city to route\n",
    "       \n",
    "    rute_opt = np.array(rute)               #intializing optimal route\n",
    "    \n",
    "    dist_cost = np.zeros((m,1))             #intializing total_distance_of_tour with zero \n",
    "    \n",
    "    for i in range(m):\n",
    "        \n",
    "        s = 0\n",
    "        for j in range(n-1):\n",
    "            \n",
    "            s = s + d[int(rute_opt[i,j])-1,int(rute_opt[i,j+1])-1]   #calcualting total tour distance\n",
    "        \n",
    "        dist_cost[i]=s                      #storing distance of tour for 'i'th ant at location 'i' \n",
    "       \n",
    "    dist_min_loc = np.argmin(dist_cost)             #finding location of minimum of dist_cost\n",
    "    dist_min_cost = dist_cost[dist_min_loc]         #finging min of dist_cost\n",
    "    \n",
    "    best_route = rute[dist_min_loc,:]               #intializing current traversed as best route\n",
    "    pheromne = (1-e)*pheromne                       #evaporation of pheromne with (1-e)\n",
    "    \n",
    "    for i in range(m):\n",
    "        for j in range(n-1):\n",
    "            dt = 1/dist_cost[i]\n",
    "            pheromne[int(rute_opt[i,j])-1,int(rute_opt[i,j+1])-1] = pheromne[int(rute_opt[i,j])-1,int(rute_opt[i,j+1])-1] + dt   \n",
    "            #updating the pheromne with delta_distance\n",
    "            #delta_distance will be more with min_dist i.e adding more weight to that route  peromne\n",
    "\n",
    "print('route of all the ants at the end :')\n",
    "print(rute_opt)\n",
    "print()\n",
    "print('best path :',best_route)\n",
    "print('cost of the best path',int(dist_min_cost[0]) + d[int(best_route[-2])-1,0])\n",
    "   \n",
    "\n",
    "            \n",
    "            \n",
    "            "
   ]
  },
  {
   "cell_type": "code",
   "execution_count": null,
   "metadata": {},
   "outputs": [],
   "source": []
  }
 ],
 "metadata": {
  "kernelspec": {
   "name": "python3",
   "display_name": "Python 3.9.1 64-bit"
  },
  "language_info": {
   "codemirror_mode": {
    "name": "ipython",
    "version": 3
   },
   "file_extension": ".py",
   "mimetype": "text/x-python",
   "name": "python",
   "nbconvert_exporter": "python",
   "pygments_lexer": "ipython3",
   "version": "3.9.1"
  },
  "interpreter": {
   "hash": "e16b9bd33e7041c0842013505aab8d96e59e427e4e0c80436ba1b7c1f34f93b5"
  }
 },
 "nbformat": 4,
 "nbformat_minor": 2
}